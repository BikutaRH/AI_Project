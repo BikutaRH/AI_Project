{
  "nbformat": 4,
  "nbformat_minor": 0,
  "metadata": {
    "colab": {
      "provenance": [],
      "collapsed_sections": [],
      "mount_file_id": "170HHz5FnIDUViHeZg0bmphi3VN-OGIuH",
      "authorship_tag": "ABX9TyPL7f2dXXOf0B5gWuALFVqm",
      "include_colab_link": true
    },
    "kernelspec": {
      "name": "python3",
      "display_name": "Python 3"
    },
    "language_info": {
      "name": "python"
    },
    "accelerator": "GPU",
    "gpuClass": "standard"
  },
  "cells": [
    {
      "cell_type": "markdown",
      "metadata": {
        "id": "view-in-github",
        "colab_type": "text"
      },
      "source": [
        "<a href=\"https://colab.research.google.com/github/huydoan98tl/AI_Project/blob/main/training_gender_recognition.ipynb\" target=\"_parent\"><img src=\"https://colab.research.google.com/assets/colab-badge.svg\" alt=\"Open In Colab\"/></a>"
      ]
    },
    {
      "cell_type": "markdown",
      "source": [
        "# This is file to train model to predict gender. AI_SEM221\n"
      ],
      "metadata": {
        "id": "OAa3L5aZcBbD"
      }
    },
    {
      "cell_type": "markdown",
      "source": [
        "## I. Prepare"
      ],
      "metadata": {
        "id": "0SD_SSwWkEuQ"
      }
    },
    {
      "cell_type": "code",
      "source": [
        "#link drive\n",
        "from google.colab import drive\n",
        "drive.mount('/content.drive/')"
      ],
      "metadata": {
        "id": "6HZ2ixqPcc8t"
      },
      "execution_count": null,
      "outputs": []
    },
    {
      "cell_type": "code",
      "source": [
        "# change to current folder\n",
        "%cd /content/drive/MyDrive/Gender_recognition\n",
        "! ls"
      ],
      "metadata": {
        "colab": {
          "base_uri": "https://localhost:8080/"
        },
        "id": "XHZDlBNBfOxd",
        "outputId": "0003f526-e793-45c3-9299-7e7cb48b3315"
      },
      "execution_count": null,
      "outputs": [
        {
          "output_type": "stream",
          "name": "stdout",
          "text": [
            "/content/drive/MyDrive/Gender_recognition\n",
            "gender-classification-dataset.zip  training_gender_recognition.ipynb\n",
            "kaggle.json\t\t\t   Validation\n",
            "Training\n"
          ]
        }
      ]
    },
    {
      "cell_type": "markdown",
      "source": [
        "# II. dowload dataset from kaggle"
      ],
      "metadata": {
        "id": "ov09bQ4qkhOu"
      }
    },
    {
      "cell_type": "code",
      "source": [
        "from google.colab import files\n",
        "!pip install -q kaggle"
      ],
      "metadata": {
        "id": "3fKoJ4Xuhc2h"
      },
      "execution_count": null,
      "outputs": []
    },
    {
      "cell_type": "code",
      "source": [
        "uploaded = files.upload()"
      ],
      "metadata": {
        "colab": {
          "base_uri": "https://localhost:8080/",
          "height": 73
        },
        "id": "8zIewMQxlsD2",
        "outputId": "7349b0d6-bd87-4c42-d8b5-3dbd522319db"
      },
      "execution_count": null,
      "outputs": [
        {
          "output_type": "display_data",
          "data": {
            "text/plain": [
              "<IPython.core.display.HTML object>"
            ],
            "text/html": [
              "\n",
              "     <input type=\"file\" id=\"files-9b33a893-cac6-4c79-8e2a-2f5a8338a3c0\" name=\"files[]\" multiple disabled\n",
              "        style=\"border:none\" />\n",
              "     <output id=\"result-9b33a893-cac6-4c79-8e2a-2f5a8338a3c0\">\n",
              "      Upload widget is only available when the cell has been executed in the\n",
              "      current browser session. Please rerun this cell to enable.\n",
              "      </output>\n",
              "      <script>// Copyright 2017 Google LLC\n",
              "//\n",
              "// Licensed under the Apache License, Version 2.0 (the \"License\");\n",
              "// you may not use this file except in compliance with the License.\n",
              "// You may obtain a copy of the License at\n",
              "//\n",
              "//      http://www.apache.org/licenses/LICENSE-2.0\n",
              "//\n",
              "// Unless required by applicable law or agreed to in writing, software\n",
              "// distributed under the License is distributed on an \"AS IS\" BASIS,\n",
              "// WITHOUT WARRANTIES OR CONDITIONS OF ANY KIND, either express or implied.\n",
              "// See the License for the specific language governing permissions and\n",
              "// limitations under the License.\n",
              "\n",
              "/**\n",
              " * @fileoverview Helpers for google.colab Python module.\n",
              " */\n",
              "(function(scope) {\n",
              "function span(text, styleAttributes = {}) {\n",
              "  const element = document.createElement('span');\n",
              "  element.textContent = text;\n",
              "  for (const key of Object.keys(styleAttributes)) {\n",
              "    element.style[key] = styleAttributes[key];\n",
              "  }\n",
              "  return element;\n",
              "}\n",
              "\n",
              "// Max number of bytes which will be uploaded at a time.\n",
              "const MAX_PAYLOAD_SIZE = 100 * 1024;\n",
              "\n",
              "function _uploadFiles(inputId, outputId) {\n",
              "  const steps = uploadFilesStep(inputId, outputId);\n",
              "  const outputElement = document.getElementById(outputId);\n",
              "  // Cache steps on the outputElement to make it available for the next call\n",
              "  // to uploadFilesContinue from Python.\n",
              "  outputElement.steps = steps;\n",
              "\n",
              "  return _uploadFilesContinue(outputId);\n",
              "}\n",
              "\n",
              "// This is roughly an async generator (not supported in the browser yet),\n",
              "// where there are multiple asynchronous steps and the Python side is going\n",
              "// to poll for completion of each step.\n",
              "// This uses a Promise to block the python side on completion of each step,\n",
              "// then passes the result of the previous step as the input to the next step.\n",
              "function _uploadFilesContinue(outputId) {\n",
              "  const outputElement = document.getElementById(outputId);\n",
              "  const steps = outputElement.steps;\n",
              "\n",
              "  const next = steps.next(outputElement.lastPromiseValue);\n",
              "  return Promise.resolve(next.value.promise).then((value) => {\n",
              "    // Cache the last promise value to make it available to the next\n",
              "    // step of the generator.\n",
              "    outputElement.lastPromiseValue = value;\n",
              "    return next.value.response;\n",
              "  });\n",
              "}\n",
              "\n",
              "/**\n",
              " * Generator function which is called between each async step of the upload\n",
              " * process.\n",
              " * @param {string} inputId Element ID of the input file picker element.\n",
              " * @param {string} outputId Element ID of the output display.\n",
              " * @return {!Iterable<!Object>} Iterable of next steps.\n",
              " */\n",
              "function* uploadFilesStep(inputId, outputId) {\n",
              "  const inputElement = document.getElementById(inputId);\n",
              "  inputElement.disabled = false;\n",
              "\n",
              "  const outputElement = document.getElementById(outputId);\n",
              "  outputElement.innerHTML = '';\n",
              "\n",
              "  const pickedPromise = new Promise((resolve) => {\n",
              "    inputElement.addEventListener('change', (e) => {\n",
              "      resolve(e.target.files);\n",
              "    });\n",
              "  });\n",
              "\n",
              "  const cancel = document.createElement('button');\n",
              "  inputElement.parentElement.appendChild(cancel);\n",
              "  cancel.textContent = 'Cancel upload';\n",
              "  const cancelPromise = new Promise((resolve) => {\n",
              "    cancel.onclick = () => {\n",
              "      resolve(null);\n",
              "    };\n",
              "  });\n",
              "\n",
              "  // Wait for the user to pick the files.\n",
              "  const files = yield {\n",
              "    promise: Promise.race([pickedPromise, cancelPromise]),\n",
              "    response: {\n",
              "      action: 'starting',\n",
              "    }\n",
              "  };\n",
              "\n",
              "  cancel.remove();\n",
              "\n",
              "  // Disable the input element since further picks are not allowed.\n",
              "  inputElement.disabled = true;\n",
              "\n",
              "  if (!files) {\n",
              "    return {\n",
              "      response: {\n",
              "        action: 'complete',\n",
              "      }\n",
              "    };\n",
              "  }\n",
              "\n",
              "  for (const file of files) {\n",
              "    const li = document.createElement('li');\n",
              "    li.append(span(file.name, {fontWeight: 'bold'}));\n",
              "    li.append(span(\n",
              "        `(${file.type || 'n/a'}) - ${file.size} bytes, ` +\n",
              "        `last modified: ${\n",
              "            file.lastModifiedDate ? file.lastModifiedDate.toLocaleDateString() :\n",
              "                                    'n/a'} - `));\n",
              "    const percent = span('0% done');\n",
              "    li.appendChild(percent);\n",
              "\n",
              "    outputElement.appendChild(li);\n",
              "\n",
              "    const fileDataPromise = new Promise((resolve) => {\n",
              "      const reader = new FileReader();\n",
              "      reader.onload = (e) => {\n",
              "        resolve(e.target.result);\n",
              "      };\n",
              "      reader.readAsArrayBuffer(file);\n",
              "    });\n",
              "    // Wait for the data to be ready.\n",
              "    let fileData = yield {\n",
              "      promise: fileDataPromise,\n",
              "      response: {\n",
              "        action: 'continue',\n",
              "      }\n",
              "    };\n",
              "\n",
              "    // Use a chunked sending to avoid message size limits. See b/62115660.\n",
              "    let position = 0;\n",
              "    do {\n",
              "      const length = Math.min(fileData.byteLength - position, MAX_PAYLOAD_SIZE);\n",
              "      const chunk = new Uint8Array(fileData, position, length);\n",
              "      position += length;\n",
              "\n",
              "      const base64 = btoa(String.fromCharCode.apply(null, chunk));\n",
              "      yield {\n",
              "        response: {\n",
              "          action: 'append',\n",
              "          file: file.name,\n",
              "          data: base64,\n",
              "        },\n",
              "      };\n",
              "\n",
              "      let percentDone = fileData.byteLength === 0 ?\n",
              "          100 :\n",
              "          Math.round((position / fileData.byteLength) * 100);\n",
              "      percent.textContent = `${percentDone}% done`;\n",
              "\n",
              "    } while (position < fileData.byteLength);\n",
              "  }\n",
              "\n",
              "  // All done.\n",
              "  yield {\n",
              "    response: {\n",
              "      action: 'complete',\n",
              "    }\n",
              "  };\n",
              "}\n",
              "\n",
              "scope.google = scope.google || {};\n",
              "scope.google.colab = scope.google.colab || {};\n",
              "scope.google.colab._files = {\n",
              "  _uploadFiles,\n",
              "  _uploadFilesContinue,\n",
              "};\n",
              "})(self);\n",
              "</script> "
            ]
          },
          "metadata": {}
        },
        {
          "output_type": "stream",
          "name": "stdout",
          "text": [
            "Saving kaggle.json to kaggle.json\n"
          ]
        }
      ]
    },
    {
      "cell_type": "code",
      "source": [
        "!mkdir -p ~/.kaggle\n",
        "!cp kaggle.json ~/.kaggle"
      ],
      "metadata": {
        "id": "MfLSunVFlyyr"
      },
      "execution_count": null,
      "outputs": []
    },
    {
      "cell_type": "code",
      "source": [
        "!kaggle datasets download -d cashutosh/gender-classification-dataset"
      ],
      "metadata": {
        "colab": {
          "base_uri": "https://localhost:8080/"
        },
        "id": "Ue_jOgOomXzx",
        "outputId": "08d28a98-6088-4f5d-e77c-65f082958674"
      },
      "execution_count": null,
      "outputs": [
        {
          "output_type": "stream",
          "name": "stdout",
          "text": [
            "Downloading gender-classification-dataset.zip to /content/drive/MyDrive/Gender_recognition\n",
            " 99% 267M/269M [00:10<00:00, 27.2MB/s]\n",
            "100% 269M/269M [00:11<00:00, 25.7MB/s]\n"
          ]
        }
      ]
    },
    {
      "cell_type": "code",
      "source": [
        "!ls"
      ],
      "metadata": {
        "id": "JIbGbLtDpRsX",
        "outputId": "bc09aef1-01c5-4230-d59c-7802da2bfa5a",
        "colab": {
          "base_uri": "https://localhost:8080/"
        }
      },
      "execution_count": null,
      "outputs": [
        {
          "output_type": "stream",
          "name": "stdout",
          "text": [
            "gender-classification-dataset.zip  training_gender_recognition.ipynb\n",
            "kaggle.json\n"
          ]
        }
      ]
    },
    {
      "cell_type": "code",
      "source": [
        "!unzip gender-classification-dataset.zip"
      ],
      "metadata": {
        "id": "GQdD_iVLoDN6"
      },
      "execution_count": null,
      "outputs": []
    },
    {
      "cell_type": "code",
      "source": [],
      "metadata": {
        "id": "MfMuvk3SwbEn"
      },
      "execution_count": null,
      "outputs": []
    },
    {
      "cell_type": "markdown",
      "source": [
        "# III. Import lib"
      ],
      "metadata": {
        "id": "LOVw0RvFx3Oe"
      }
    },
    {
      "cell_type": "code",
      "source": [
        "import os, cv2, random\n",
        "import numpy as np\n",
        "import tensorflow as tf\n",
        "import glob\n",
        "from tensorflow import keras\n",
        "from keras_preprocessing.image import img_to_array\n",
        "from keras_preprocessing.image import ImageDataGenerator\n",
        "from keras.models import Sequential\n",
        "from keras.models import load_model\n",
        "from keras import layers  \n",
        "from keras.layers import BatchNormalization, Conv2D, MaxPool2D, Activation, Flatten, Dropout, Dense\n",
        "from sklearn.model_selection import train_test_split"
      ],
      "metadata": {
        "id": "LBM6tfEBx9qA"
      },
      "execution_count": null,
      "outputs": []
    },
    {
      "cell_type": "code",
      "source": [],
      "metadata": {
        "id": "sa0jBXva0J9L"
      },
      "execution_count": null,
      "outputs": []
    },
    {
      "cell_type": "markdown",
      "source": [
        "# IV.Main"
      ],
      "metadata": {
        "id": "3VND3llB0PYZ"
      }
    },
    {
      "cell_type": "markdown",
      "source": [
        "## 4.1 initial parameter"
      ],
      "metadata": {
        "id": "d-LN6P9F0gEp"
      }
    },
    {
      "cell_type": "code",
      "source": [
        "# output of cascade model is gray images with size 96x96\n",
        "WIDTH = 96\n",
        "HEIGHT = 96\n",
        "#CHANNEL = 3\n",
        "\n",
        "# define\n",
        "class_number = 2\n",
        "batch_size = 128\n",
        "epochs = 50\n",
        "path_train = '/content/drive/MyDrive/Gender_recognition/Training'\n",
        "path_test = '/content/drive/MyDrive/Gender_recognition/Validation'\n",
        "\n",
        "# initial list of input image\n",
        "data_train = []\n",
        "label_train = []\n",
        "data_test = []\n",
        "label_test = []\n",
        "count_train = 0\n",
        "count_test = 0\n",
        "\n",
        "# get all images in traning folder\n",
        "img_trainlist = [img for img in glob.glob(path_train + '/**/*', recursive = True) if not os.path.isdir(img)]\n",
        "random.shuffle(img_trainlist)\n",
        "\n",
        "# get all images in validation folder\n",
        "img_testlist = [img for img in glob.glob(path_test + '/**/*', recursive = True) if not os.path.isdir(img)]\n",
        "random.shuffle(img_testlist)\n"
      ],
      "metadata": {
        "id": "YTHuijA50Rgl"
      },
      "execution_count": 3,
      "outputs": []
    },
    {
      "cell_type": "markdown",
      "source": [
        "## 4.2. Load image"
      ],
      "metadata": {
        "id": "xfNwKsdSb4Fv"
      }
    },
    {
      "cell_type": "code",
      "source": [
        "# add data and label of train\n",
        "for img_train in img_trainlist:\n",
        "  #read image\n",
        "  img_read = cv2.imread(img_train)\n",
        "  img_read = cv2.resize(img_read,(WIDTH, HEIGHT))\n",
        "  img_read = img_to_array(img_read)\n",
        "  \n",
        "  #add data\n",
        "  data_train.append(img_read)\n",
        "  \n",
        "  #split path to take the name of folder\n",
        "  label_value = img_train.split(os.path.sep)[-2] \n",
        "  if label_value == 'female':\n",
        "    label_value = 1\n",
        "  else:\n",
        "    label_value = 0\n",
        "    label_train.append(label_value) # add label\n",
        "\n",
        "  # print out number of image training\n",
        "  count_train = count_train + 1\n",
        "  print(\"Processing Training Images: \", count_train)\n",
        "\n",
        "# add data and label of test\n",
        "for img_test in img_testlist:\n",
        "  #read image\n",
        "  img_read = cv2.imread(img_test)\n",
        "  img_read = cv2.resize(img_read,(WIDTH, HEIGHT))\n",
        "  img_read = img_to_array(img_read)\n",
        "  \n",
        "  #add data\n",
        "  data_test.append(img_read)\n",
        "  \n",
        "  #split path to take the name of folder\n",
        "  label_value = img_test.split(os.path.sep)[-2] \n",
        "  if label_value == 'female':\n",
        "    label_value = 1\n",
        "  else:\n",
        "    label_value = 0\n",
        "  label_test.append(label_value) #add label\n",
        "\n",
        "  # print out number of image testing\n",
        "  count_test = count_test + 1\n",
        "  print(\"Processing Testing Image: \", count_test)\n",
        "\n",
        "#conver list to array\n",
        "data_train = np.array(data_train, dtype = 'float')/255.0\n",
        "label_train = np.array(label_train)\n",
        "data_test = np.array(data_test, dtype = 'float')/255.0\n",
        "label_test = np.array(label_test)\n",
        "\n",
        "# covert to binary matrix\n",
        "label_train = keras.utils.to_categorical(label_train, class_number)\n",
        "label_test = keras.utils.to_categorical(label_test, class_number)"
      ],
      "metadata": {
        "id": "Vfv0coWfpBPj"
      },
      "execution_count": null,
      "outputs": []
    },
    {
      "cell_type": "markdown",
      "source": [
        "## 4.3 Build Model"
      ],
      "metadata": {
        "id": "j2a4tL_CC3xA"
      }
    },
    {
      "cell_type": "code",
      "source": [],
      "metadata": {
        "id": "_u2fjEqQb-AA"
      },
      "execution_count": null,
      "outputs": []
    }
  ]
}